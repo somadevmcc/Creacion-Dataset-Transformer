{
 "cells": [
  {
   "cell_type": "code",
   "execution_count": 45,
   "metadata": {},
   "outputs": [],
   "source": [
    "import face_recognition\n",
    "import os\n",
    "from PIL import Image as ImagePIL\n",
    "import numpy as np\n",
    "import pandas as pd\n",
    "import cv2\n",
    "from cvzone.PoseModule import PoseDetector"
   ]
  },
  {
   "cell_type": "code",
   "execution_count": 46,
   "metadata": {},
   "outputs": [],
   "source": [
    "def mascaraFrame(numFrame,video_path):\n",
    "\n",
    "    # Open the video file\n",
    "    cap = cv2.VideoCapture(video_path)\n",
    "\n",
    "    # Check if video file opened successfully\n",
    "    if not cap.isOpened():\n",
    "        print(f\"Error: Could not open video file {video_path}\")\n",
    "        exit()\n",
    "    # Set the frame position\n",
    "    cap.set(cv2.CAP_PROP_POS_FRAMES, numFrame)\n",
    "\n",
    "    # Read the frame\n",
    "    ret, frame = cap.read()\n",
    "\n",
    "    # Check if the frame was read successfully\n",
    "    if ret:\n",
    "        # Display the frame\n",
    "        cap.release()\n",
    "        return frame\n",
    "    else:\n",
    "        print(f\"Error: Could not read frame {numFrame}\")\n",
    "\n",
    "    # Release the video capture object and close all OpenCV windows\n",
    "    cap.release()\n"
   ]
  },
  {
   "cell_type": "code",
   "execution_count": 47,
   "metadata": {},
   "outputs": [],
   "source": [
    "def procesarVideo(video_path):\n",
    "    # Initialize the PoseDetector\n",
    "    detector = PoseDetector()\n",
    "    respond = []\n",
    "    maxFrames = 63\n",
    "    # Open the video file\n",
    "    cap = cv2.VideoCapture(video_path)\n",
    "\n",
    "    # Check if video file opened successfully\n",
    "    if not cap.isOpened():\n",
    "        print(f\"Error: Could not open video file {video_path}\")\n",
    "        exit()\n",
    "\n",
    "    # Get video properties\n",
    "    fps = cap.get(cv2.CAP_PROP_FPS)\n",
    "    width = int(cap.get(cv2.CAP_PROP_FRAME_WIDTH))\n",
    "    height = int(cap.get(cv2.CAP_PROP_FRAME_HEIGHT))\n",
    "    fourcc = cv2.VideoWriter_fourcc(*'mp4v')\n",
    "\n",
    "    # Initialize variables to store the bounding box dimensions\n",
    "    rect_x, rect_y, rect_w, rect_h = 0, 0, 0, 0\n",
    "    Numframe = 0\n",
    "    while cap.isOpened():\n",
    "        ret, frame = cap.read()\n",
    "        if not ret:\n",
    "            break\n",
    "        \n",
    "        if Numframe > maxFrames:\n",
    "            return respond\n",
    "            \n",
    "\n",
    "        # Find the pose in the frame\n",
    "        img = detector.findPose(frame, draw=False)\n",
    "        \n",
    "        # Get the list of landmarks\n",
    "        lmList, _ = detector.findPosition(img, bboxWithHands=False)\n",
    "        \n",
    "        if lmList:\n",
    "            # Calculate bounding box dimensions based on landmarks\n",
    "            x_min = min(lmList, key=lambda x: x[0])[0]\n",
    "            x_max = max(lmList, key=lambda x: x[0])[0]\n",
    "            y_min = min(lmList, key=lambda x: x[1])[1]\n",
    "            y_max = max(lmList, key=lambda x: x[1])[1]\n",
    "            \n",
    "            # Update rectangle dimensions\n",
    "            rect_x = x_min\n",
    "            rect_y = y_min\n",
    "            rect_w = x_max - x_min\n",
    "            rect_h = y_max - y_min\n",
    "        \n",
    "        # Ensure rectangle is within frame boundaries\n",
    "        rect_x = max(0, rect_x)\n",
    "        rect_y = max(0, rect_y)\n",
    "        rect_w = min(width - rect_x, rect_w)\n",
    "        rect_h = min(height - rect_y, rect_h)\n",
    "        \n",
    "        if rect_w > 0 and rect_h > 0:\n",
    "            # Draw the rectangle on the frame\n",
    "            cv2.rectangle(frame, (rect_x, rect_y), (rect_x + rect_w, rect_y + rect_h), (255, 0, 0), 2)\n",
    "            \n",
    "            # Crop the frame to the rectangle region\n",
    "            \n",
    "            maskFrame = mascaraFrame(Numframe,video_path)\n",
    "            cropped_frame = maskFrame[rect_y:rect_y + rect_h, rect_x:rect_x + rect_w]\n",
    "\n",
    "            if cropped_frame.size != 0:\n",
    "                # Resize cropped frame back to original frame size\n",
    "                resized_cropped_frame = cv2.resize(cropped_frame, (150, 150))\n",
    "                respond.append(resized_cropped_frame)\n",
    "                \n",
    "        # Display the frame with the pose and bounding box (for debugging purposes)\n",
    "        #cv2.imshow('Frame', frame)\n",
    "        Numframe += 1\n",
    "        if cv2.waitKey(1) & 0xFF == ord('q'):\n",
    "            break\n",
    "\n",
    "    # Release the video capture and writer objects and close all OpenCV windows\n",
    "    cap.release()\n",
    "    return respond"
   ]
  },
  {
   "cell_type": "code",
   "execution_count": 48,
   "metadata": {},
   "outputs": [],
   "source": [
    "from database import Conexiones as con\n",
    "def getKeypoints(etiqueta):\n",
    "    cur, connectio = con.conexion()\n",
    "    cur.execute(\"select nose,left_shoulder,right_shoulder,left_elbow,right_elbow,left_wrist,right_wrist,left_hip,right_hip,left_knee,right_knee,left_ankle,right_ankle,mid_shoulder,mid_hip from fun_generar_reporte_keypoints('\"+etiqueta+\"') where CAST(frame as integer) < 63\")\n",
    "    keypoints = cur.fetchall()\n",
    "    return keypoints\n",
    "    "
   ]
  },
  {
   "cell_type": "code",
   "execution_count": 49,
   "metadata": {},
   "outputs": [],
   "source": [
    "def getAngles(etiqueta):\n",
    "    cur, connectio = con.conexion()\n",
    "    cur.execute(\"select nose_mid_shoulder,mid_shoulder_mid_hip,left_shoulder_left_elbow,left_elbow_left_wrist,right_shoulder_right_elbow,right_elbow_right_wrist,left_hip_left_knee,left_knee_left_ankle,right_hip_right_knee,right_knee_right_ankle,mid_shoulder_angle,left_shoulder_angle,left_elbow_angle,right_shoulder_angle,right_elbow_angle,left_hip_angle,left_knee_angle,right_hip_angle,right_knee_angle from fun_generar_reporte_angles('\"+etiqueta+\"') where CAST(frame as integer) < 63\")\n",
    "    angles = cur.fetchall()\n",
    "    return angles"
   ]
  },
  {
   "cell_type": "code",
   "execution_count": 56,
   "metadata": {},
   "outputs": [
    {
     "name": "stdout",
     "output_type": "stream",
     "text": [
      "FERNANDO FERNANDO_01.mp4\n",
      "FERNANDO FERNANDO_02.mp4\n",
      "FERNANDO FERNANDO_03.mp4\n",
      "FERNANDO FERNANDO_04.mp4\n"
     ]
    }
   ],
   "source": [
    "\n",
    "videos = \"video-input\"\n",
    "output_dir = \"output\"\n",
    "features = []\n",
    "labels = []\n",
    "datos_imagen_recortada = []\n",
    "directorio = {'Mascara': [], 'Keypoints': [], 'Angles': [], 'Etiqueta': []}\n",
    "for carpetas in os.listdir(videos):\n",
    "    if carpetas == \"FERNANDO\":\n",
    "        ruta = os.path.join(videos, carpetas)\n",
    "        for video_file in os.listdir(ruta):\n",
    "            try:\n",
    "                etiqueta = carpetas\n",
    "                print(carpetas +\" \"+video_file)\n",
    "                video_path = os.path.join(ruta, video_file)\n",
    "                directorio['Mascara'].append(procesarVideo(video_path))\n",
    "                directorio['Keypoints'].append(np.array(getKeypoints(etiqueta)))\n",
    "                directorio['Angles'].append(np.array(getAngles(etiqueta)))\n",
    "                directorio['Etiqueta'].append(etiqueta)\n",
    "            except Exception as e:\n",
    "                print(e)\n",
    "                continue\n"
   ]
  },
  {
   "cell_type": "code",
   "execution_count": 57,
   "metadata": {},
   "outputs": [
    {
     "name": "stdout",
     "output_type": "stream",
     "text": [
      "4\n",
      "4\n",
      "4\n",
      "4\n"
     ]
    }
   ],
   "source": [
    "print(len(directorio['Mascara']))\n",
    "print(len(directorio['Keypoints']))\n",
    "print(len(directorio['Angles']))\n",
    "print(len(directorio['Etiqueta']))\n",
    "test = np.array(directorio['Keypoints'])"
   ]
  },
  {
   "cell_type": "code",
   "execution_count": 61,
   "metadata": {},
   "outputs": [],
   "source": [
    "df_mascara = pd.DataFrame(directorio)\n",
    "df_mascara.to_pickle(\"df_mascara.pkl\")"
   ]
  }
 ],
 "metadata": {
  "kernelspec": {
   "display_name": "Python 3",
   "language": "python",
   "name": "python3"
  },
  "language_info": {
   "codemirror_mode": {
    "name": "ipython",
    "version": 3
   },
   "file_extension": ".py",
   "mimetype": "text/x-python",
   "name": "python",
   "nbconvert_exporter": "python",
   "pygments_lexer": "ipython3",
   "version": "3.11.2"
  }
 },
 "nbformat": 4,
 "nbformat_minor": 2
}
